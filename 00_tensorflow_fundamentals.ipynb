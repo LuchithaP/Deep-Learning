{
  "nbformat": 4,
  "nbformat_minor": 0,
  "metadata": {
    "colab": {
      "provenance": [],
      "authorship_tag": "ABX9TyP+sIpWZ5oTgKeLpm4Or0+4",
      "include_colab_link": true
    },
    "kernelspec": {
      "name": "python3",
      "display_name": "Python 3"
    },
    "language_info": {
      "name": "python"
    }
  },
  "cells": [
    {
      "cell_type": "markdown",
      "metadata": {
        "id": "view-in-github",
        "colab_type": "text"
      },
      "source": [
        "<a href=\"https://colab.research.google.com/github/LuchithaP/Deep-Learning/blob/main/00_tensorflow_fundamentals.ipynb\" target=\"_parent\"><img src=\"https://colab.research.google.com/assets/colab-badge.svg\" alt=\"Open In Colab\"/></a>"
      ]
    },
    {
      "cell_type": "markdown",
      "source": [
        "Outline\n",
        "\n",
        "\n",
        "*   Introdution to tensors\n",
        "\n",
        "*   getting information from tensors\n",
        "\n",
        "*   manipulating tensors\n",
        "*   Tensors and Numpy\n",
        "\n",
        "\n",
        "*   using @tf.function ( a way to speed up regular python functions )\n",
        "\n",
        "\n",
        "*  Using GPUs WITH tENSORFlow (or TPU)\n",
        "\n",
        "\n",
        "*   Exercises\n",
        "\n",
        "\n",
        "\n",
        "\n"
      ],
      "metadata": {
        "id": "PGiSPZu8IS66"
      }
    },
    {
      "cell_type": "markdown",
      "source": [
        "# Introduction"
      ],
      "metadata": {
        "id": "-reZFR0DJVOr"
      }
    },
    {
      "cell_type": "code",
      "execution_count": 9,
      "metadata": {
        "colab": {
          "base_uri": "https://localhost:8080/"
        },
        "id": "EcgAE8VTGCvb",
        "outputId": "2865d7cd-15f7-4fa6-892f-b883eb980457"
      },
      "outputs": [
        {
          "output_type": "stream",
          "name": "stdout",
          "text": [
            "2.17.1\n"
          ]
        }
      ],
      "source": [
        "# import tensorflow\n",
        "import tensorflow as tf\n",
        "print(tf.__version__)"
      ]
    },
    {
      "cell_type": "code",
      "source": [
        "#create a tensor with tf.contant()\n",
        "scalar = tf.constant(7)\n",
        "scalar"
      ],
      "metadata": {
        "colab": {
          "base_uri": "https://localhost:8080/"
        },
        "id": "4BAidxTeJOPe",
        "outputId": "bad8fbc0-0ce8-4d75-95e2-8cb2c7c177c9"
      },
      "execution_count": 10,
      "outputs": [
        {
          "output_type": "execute_result",
          "data": {
            "text/plain": [
              "<tf.Tensor: shape=(), dtype=int32, numpy=7>"
            ]
          },
          "metadata": {},
          "execution_count": 10
        }
      ]
    },
    {
      "cell_type": "code",
      "source": [
        "#check the num of dimensions in a tensor\n",
        "scalar.ndim"
      ],
      "metadata": {
        "colab": {
          "base_uri": "https://localhost:8080/"
        },
        "id": "HMo0PC1XJK5O",
        "outputId": "bdcc4a44-99a8-404b-e8e1-d9f512c7fe6d"
      },
      "execution_count": 11,
      "outputs": [
        {
          "output_type": "execute_result",
          "data": {
            "text/plain": [
              "0"
            ]
          },
          "metadata": {},
          "execution_count": 11
        }
      ]
    },
    {
      "cell_type": "code",
      "source": [
        "vector = tf.constant([10,10])\n",
        "vector"
      ],
      "metadata": {
        "colab": {
          "base_uri": "https://localhost:8080/"
        },
        "id": "rC3bRLWRJJpD",
        "outputId": "da3070b6-c594-4345-e01d-f1395c94569d"
      },
      "execution_count": 14,
      "outputs": [
        {
          "output_type": "execute_result",
          "data": {
            "text/plain": [
              "<tf.Tensor: shape=(2,), dtype=int32, numpy=array([10, 10], dtype=int32)>"
            ]
          },
          "metadata": {},
          "execution_count": 14
        }
      ]
    },
    {
      "cell_type": "code",
      "source": [
        "vector.ndim"
      ],
      "metadata": {
        "colab": {
          "base_uri": "https://localhost:8080/"
        },
        "id": "chZbIbsPJIPs",
        "outputId": "236e4a42-00f6-4539-d4e3-5e8dfcd6dbae"
      },
      "execution_count": 13,
      "outputs": [
        {
          "output_type": "execute_result",
          "data": {
            "text/plain": [
              "1"
            ]
          },
          "metadata": {},
          "execution_count": 13
        }
      ]
    },
    {
      "cell_type": "code",
      "source": [
        "matrix  = tf.constant(\n",
        "    [\n",
        "        [10,7],\n",
        "        [7,10]\n",
        "    ]\n",
        ")\n",
        "\n",
        "matrix"
      ],
      "metadata": {
        "colab": {
          "base_uri": "https://localhost:8080/"
        },
        "id": "7jNwb_6QG4p1",
        "outputId": "e269f06b-05f5-4fc0-914f-de3d3f72fd54"
      },
      "execution_count": 15,
      "outputs": [
        {
          "output_type": "execute_result",
          "data": {
            "text/plain": [
              "<tf.Tensor: shape=(2, 2), dtype=int32, numpy=\n",
              "array([[10,  7],\n",
              "       [ 7, 10]], dtype=int32)>"
            ]
          },
          "metadata": {},
          "execution_count": 15
        }
      ]
    },
    {
      "cell_type": "code",
      "source": [
        "matrix.ndim"
      ],
      "metadata": {
        "colab": {
          "base_uri": "https://localhost:8080/"
        },
        "id": "COSg79tlOTAH",
        "outputId": "6560950d-9785-42d4-b8b8-650914e5e95b"
      },
      "execution_count": 16,
      "outputs": [
        {
          "output_type": "execute_result",
          "data": {
            "text/plain": [
              "2"
            ]
          },
          "metadata": {},
          "execution_count": 16
        }
      ]
    },
    {
      "cell_type": "code",
      "source": [
        "another_matrix = tf.constant(\n",
        "    [\n",
        "        [1.,2.,3.],\n",
        "        [4.,5.,6.],\n",
        "        [7.,8.,9.]\n",
        "    ]\n",
        "    ,\n",
        "    dtype = tf.float16\n",
        ")\n",
        "another_matrix"
      ],
      "metadata": {
        "colab": {
          "base_uri": "https://localhost:8080/"
        },
        "id": "YBi_BulAOXL3",
        "outputId": "621f69b1-7a31-4f21-9cfb-5767097740da"
      },
      "execution_count": 23,
      "outputs": [
        {
          "output_type": "execute_result",
          "data": {
            "text/plain": [
              "<tf.Tensor: shape=(3, 3), dtype=float16, numpy=\n",
              "array([[1., 2., 3.],\n",
              "       [4., 5., 6.],\n",
              "       [7., 8., 9.]], dtype=float16)>"
            ]
          },
          "metadata": {},
          "execution_count": 23
        }
      ]
    },
    {
      "cell_type": "code",
      "source": [
        "another_matrix.ndim\n"
      ],
      "metadata": {
        "colab": {
          "base_uri": "https://localhost:8080/"
        },
        "id": "-ehMzoA9OlJw",
        "outputId": "dba8a6cd-0f97-4907-d0a4-cf826e6c8b32"
      },
      "execution_count": 24,
      "outputs": [
        {
          "output_type": "execute_result",
          "data": {
            "text/plain": [
              "2"
            ]
          },
          "metadata": {},
          "execution_count": 24
        }
      ]
    },
    {
      "cell_type": "code",
      "source": [
        "#create a tensor\n",
        "tensor = tf.constant(\n",
        "    [\n",
        "        [\n",
        "            [1,2,3], [3,2,5]\n",
        "        ],\n",
        "        [\n",
        "            [4,5,6], [7,8,9]\n",
        "        ],\n",
        "        [\n",
        "            [6,3,0],[8,9,-1]\n",
        "        ]\n",
        "    ]\n",
        ")\n",
        "tensor"
      ],
      "metadata": {
        "colab": {
          "base_uri": "https://localhost:8080/"
        },
        "id": "MZAFixduOuTj",
        "outputId": "c1c5b3e7-a0ab-46f5-ef56-4d543919a957"
      },
      "execution_count": 25,
      "outputs": [
        {
          "output_type": "execute_result",
          "data": {
            "text/plain": [
              "<tf.Tensor: shape=(3, 2, 3), dtype=int32, numpy=\n",
              "array([[[ 1,  2,  3],\n",
              "        [ 3,  2,  5]],\n",
              "\n",
              "       [[ 4,  5,  6],\n",
              "        [ 7,  8,  9]],\n",
              "\n",
              "       [[ 6,  3,  0],\n",
              "        [ 8,  9, -1]]], dtype=int32)>"
            ]
          },
          "metadata": {},
          "execution_count": 25
        }
      ]
    },
    {
      "cell_type": "code",
      "source": [
        "tensor.ndim"
      ],
      "metadata": {
        "colab": {
          "base_uri": "https://localhost:8080/"
        },
        "id": "l6yVqxEeP3l0",
        "outputId": "db8a7044-efed-4824-ce50-e0f19fb3f21a"
      },
      "execution_count": 26,
      "outputs": [
        {
          "output_type": "execute_result",
          "data": {
            "text/plain": [
              "3"
            ]
          },
          "metadata": {},
          "execution_count": 26
        }
      ]
    },
    {
      "cell_type": "markdown",
      "source": [
        "# tf Variable"
      ],
      "metadata": {
        "id": "QkIwWzwRRHpS"
      }
    },
    {
      "cell_type": "code",
      "source": [
        "unchangeable_tensor = tf.constant([10,7])\n",
        "changeble_tensor = tf.Variable([10,7])\n",
        "unchangeable_tensor , changeble_tensor\n"
      ],
      "metadata": {
        "colab": {
          "base_uri": "https://localhost:8080/"
        },
        "id": "dcErfSCjRMYy",
        "outputId": "6ade5b1e-1d1c-4fb7-c5f3-dd27e6b8cddb"
      },
      "execution_count": 31,
      "outputs": [
        {
          "output_type": "execute_result",
          "data": {
            "text/plain": [
              "(<tf.Tensor: shape=(2,), dtype=int32, numpy=array([10,  7], dtype=int32)>,\n",
              " <tf.Variable 'Variable:0' shape=(2,) dtype=int32, numpy=array([10,  7], dtype=int32)>)"
            ]
          },
          "metadata": {},
          "execution_count": 31
        }
      ]
    },
    {
      "cell_type": "code",
      "source": [
        "changeble_tensor[0].assign(7)\n",
        "changeble_tensor"
      ],
      "metadata": {
        "colab": {
          "base_uri": "https://localhost:8080/"
        },
        "id": "RCXreYTYSa-n",
        "outputId": "ab00117a-8575-4f87-ef0e-033bc0c6b668"
      },
      "execution_count": 28,
      "outputs": [
        {
          "output_type": "execute_result",
          "data": {
            "text/plain": [
              "<tf.Variable 'Variable:0' shape=(2,) dtype=int32, numpy=array([7, 7], dtype=int32)>"
            ]
          },
          "metadata": {},
          "execution_count": 28
        }
      ]
    },
    {
      "cell_type": "markdown",
      "source": [
        "# Random Tensors"
      ],
      "metadata": {
        "id": "CpsQhVscUZgM"
      }
    },
    {
      "cell_type": "code",
      "source": [
        "random_1 = tf.random.Generator.from_seed(42)\n",
        "random_1 = random_1.uniform(shape=(3,2) , maxval = 10 , minval = 5)  # take random values from a normal distribution\n",
        "random_2 = tf.random.Generator.from_seed(40)\n",
        "random_2 = random_2.normal(shape=(3,2))\n",
        "random_1 , random_2 , random_1 == random_2"
      ],
      "metadata": {
        "colab": {
          "base_uri": "https://localhost:8080/"
        },
        "id": "BN5bVMDkSzDT",
        "outputId": "832982f5-9079-4278-9603-ff7cba8b17de"
      },
      "execution_count": 37,
      "outputs": [
        {
          "output_type": "execute_result",
          "data": {
            "text/plain": [
              "(<tf.Tensor: shape=(3, 2), dtype=float32, numpy=\n",
              " array([[8.746723 , 8.678099 ],\n",
              "        [7.2615395, 7.451991 ],\n",
              "        [5.9446583, 7.601376 ]], dtype=float32)>,\n",
              " <tf.Tensor: shape=(3, 2), dtype=float32, numpy=\n",
              " array([[ 0.78953624,  0.53897345],\n",
              "        [-0.48535708,  0.74055266],\n",
              "        [ 0.31662667, -1.4391748 ]], dtype=float32)>,\n",
              " <tf.Tensor: shape=(3, 2), dtype=bool, numpy=\n",
              " array([[False, False],\n",
              "        [False, False],\n",
              "        [False, False]])>)"
            ]
          },
          "metadata": {},
          "execution_count": 37
        }
      ]
    },
    {
      "cell_type": "code",
      "source": [
        "#shuffle the order of a tensor\n",
        "\n",
        "not_shuffled = tf.constant(\n",
        "    [\n",
        "        [3,8,9],\n",
        "        [9,1,5],\n",
        "        [6,0,1]\n",
        "    ]\n",
        ")\n",
        "shuffled = tf.random.shuffle(not_shuffled)\n",
        "\n",
        "not_shuffled , shuffled\n"
      ],
      "metadata": {
        "colab": {
          "base_uri": "https://localhost:8080/"
        },
        "id": "GDy-K11gXSmc",
        "outputId": "0e01468a-a200-4e2f-c66a-ccf54e55b0cd"
      },
      "execution_count": 40,
      "outputs": [
        {
          "output_type": "execute_result",
          "data": {
            "text/plain": [
              "(<tf.Tensor: shape=(3, 3), dtype=int32, numpy=\n",
              " array([[3, 8, 9],\n",
              "        [9, 1, 5],\n",
              "        [6, 0, 1]], dtype=int32)>,\n",
              " <tf.Tensor: shape=(3, 3), dtype=int32, numpy=\n",
              " array([[9, 1, 5],\n",
              "        [6, 0, 1],\n",
              "        [3, 8, 9]], dtype=int32)>)"
            ]
          },
          "metadata": {},
          "execution_count": 40
        }
      ]
    },
    {
      "cell_type": "markdown",
      "source": [
        "\n",
        "*   Global Seed Only: The shuffle result remains consistent across runs when the global seed is set.\n",
        "\n",
        "*   Operation Seed Only: The shuffle result is consistent across runs for the specific operation with the given seed.\n",
        "\n",
        "*   Both Seeds: The shuffle result is consistent across runs, but it will differ from the other cases as it depends on the combination of global and operation seeds.\n",
        "\n",
        "\n",
        "\n",
        "\n",
        "\n",
        "\n",
        "\n"
      ],
      "metadata": {
        "id": "6VC0HiV0evwN"
      }
    },
    {
      "cell_type": "code",
      "source": [
        "tf.random.set_seed(12) #\n",
        "shuffled = tf.random.shuffle(not_shuffled, seed = 42)\n",
        "shuffled"
      ],
      "metadata": {
        "colab": {
          "base_uri": "https://localhost:8080/"
        },
        "id": "FFpZhEgcWCJd",
        "outputId": "669656b9-cfcf-43bf-a04a-d360683c591a"
      },
      "execution_count": 123,
      "outputs": [
        {
          "output_type": "execute_result",
          "data": {
            "text/plain": [
              "<tf.Tensor: shape=(3, 3), dtype=int32, numpy=\n",
              "array([[9, 1, 5],\n",
              "       [3, 8, 9],\n",
              "       [6, 0, 1]], dtype=int32)>"
            ]
          },
          "metadata": {},
          "execution_count": 123
        }
      ]
    },
    {
      "cell_type": "code",
      "source": [
        "#tf.ones\n",
        "ones = tf.ones(shape = (5,3), dtype=tf.int32)\n",
        "print(ones)\n",
        "#tf.zeros\n",
        "zeros = tf.zeros(shape = (4,3), dtype=tf.float16)\n",
        "print(zeros)"
      ],
      "metadata": {
        "colab": {
          "base_uri": "https://localhost:8080/"
        },
        "id": "-bbUe79jfpV7",
        "outputId": "01d72a93-af7c-4b11-ed68-18912ea01b4e"
      },
      "execution_count": 126,
      "outputs": [
        {
          "output_type": "stream",
          "name": "stdout",
          "text": [
            "tf.Tensor(\n",
            "[[1 1 1]\n",
            " [1 1 1]\n",
            " [1 1 1]\n",
            " [1 1 1]\n",
            " [1 1 1]], shape=(5, 3), dtype=int32)\n",
            "tf.Tensor(\n",
            "[[0. 0. 0.]\n",
            " [0. 0. 0.]\n",
            " [0. 0. 0.]\n",
            " [0. 0. 0.]], shape=(4, 3), dtype=float16)\n"
          ]
        }
      ]
    },
    {
      "cell_type": "markdown",
      "source": [
        "#Numpy arrays to tensors\n",
        "\n",
        "tensors run faster in GPUs than a Numpy array"
      ],
      "metadata": {
        "id": "jii0MWK9gS1W"
      }
    },
    {
      "cell_type": "code",
      "source": [
        "import numpy as np\n",
        "numpy_A = np.arange(1,25, dtype = np.int32)\n",
        "numpy_A"
      ],
      "metadata": {
        "colab": {
          "base_uri": "https://localhost:8080/"
        },
        "id": "xp-neXgmgSeQ",
        "outputId": "31e6cc87-5825-4682-aebe-968dafe5dc77"
      },
      "execution_count": 130,
      "outputs": [
        {
          "output_type": "execute_result",
          "data": {
            "text/plain": [
              "array([ 1,  2,  3,  4,  5,  6,  7,  8,  9, 10, 11, 12, 13, 14, 15, 16, 17,\n",
              "       18, 19, 20, 21, 22, 23, 24], dtype=int32)"
            ]
          },
          "metadata": {},
          "execution_count": 130
        }
      ]
    },
    {
      "cell_type": "code",
      "source": [
        "A = tf.constant(numpy_A)\n",
        "A"
      ],
      "metadata": {
        "colab": {
          "base_uri": "https://localhost:8080/"
        },
        "id": "ob8MQ50FgPdm",
        "outputId": "5f17757f-f392-49bc-eaea-32af6a105f06"
      },
      "execution_count": 132,
      "outputs": [
        {
          "output_type": "execute_result",
          "data": {
            "text/plain": [
              "<tf.Tensor: shape=(24,), dtype=int32, numpy=\n",
              "array([ 1,  2,  3,  4,  5,  6,  7,  8,  9, 10, 11, 12, 13, 14, 15, 16, 17,\n",
              "       18, 19, 20, 21, 22, 23, 24], dtype=int32)>"
            ]
          },
          "metadata": {},
          "execution_count": 132
        }
      ]
    },
    {
      "cell_type": "code",
      "source": [
        "B = tf.constant(numpy_A , shape = (2,3,4))\n",
        "C  = tf.constant(numpy_A , shape = (3,8))\n",
        "B , C"
      ],
      "metadata": {
        "colab": {
          "base_uri": "https://localhost:8080/"
        },
        "id": "ap-vPPeMhyV-",
        "outputId": "8717f0eb-e6a9-471a-c2a0-6fa7784cce4e"
      },
      "execution_count": 135,
      "outputs": [
        {
          "output_type": "execute_result",
          "data": {
            "text/plain": [
              "(<tf.Tensor: shape=(2, 3, 4), dtype=int32, numpy=\n",
              " array([[[ 1,  2,  3,  4],\n",
              "         [ 5,  6,  7,  8],\n",
              "         [ 9, 10, 11, 12]],\n",
              " \n",
              "        [[13, 14, 15, 16],\n",
              "         [17, 18, 19, 20],\n",
              "         [21, 22, 23, 24]]], dtype=int32)>,\n",
              " <tf.Tensor: shape=(3, 8), dtype=int32, numpy=\n",
              " array([[ 1,  2,  3,  4,  5,  6,  7,  8],\n",
              "        [ 9, 10, 11, 12, 13, 14, 15, 16],\n",
              "        [17, 18, 19, 20, 21, 22, 23, 24]], dtype=int32)>)"
            ]
          },
          "metadata": {},
          "execution_count": 135
        }
      ]
    },
    {
      "cell_type": "code",
      "source": [],
      "metadata": {
        "id": "ZICXvG_4h0_V"
      },
      "execution_count": null,
      "outputs": []
    }
  ]
}